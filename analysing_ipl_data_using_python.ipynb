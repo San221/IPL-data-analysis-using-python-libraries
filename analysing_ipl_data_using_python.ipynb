{
 "cells": [
  {
   "cell_type": "markdown",
   "metadata": {},
   "source": [
    "# Analyzing the IPL data"
   ]
  },
  {
   "cell_type": "code",
   "execution_count": null,
   "metadata": {},
   "outputs": [],
   "source": []
  },
  {
   "cell_type": "code",
   "execution_count": 1,
   "metadata": {
    "id": "LM5v99ZfS_Gs"
   },
   "outputs": [],
   "source": [
    "# Importing all necessary packages\n",
    "import pandas as pd\n",
    "from matplotlib import pyplot as plt\n",
    "import seaborn as sns"
   ]
  },
  {
   "cell_type": "code",
   "execution_count": 2,
   "metadata": {
    "id": "L9tMcGLOTcqC"
   },
   "outputs": [],
   "source": [
    "# Reading the csv file\n",
    "ipl=pd.read_csv('matches.csv')"
   ]
  },
  {
   "cell_type": "code",
   "execution_count": 3,
   "metadata": {
    "colab": {
     "base_uri": "https://localhost:8080/",
     "height": 445
    },
    "id": "bXABH0L5UcP2",
    "outputId": "fa7c33de-fb45-4c99-d2f9-20aa4dd77ec4"
   },
   "outputs": [
    {
     "data": {
      "text/html": [
       "<div>\n",
       "<style scoped>\n",
       "    .dataframe tbody tr th:only-of-type {\n",
       "        vertical-align: middle;\n",
       "    }\n",
       "\n",
       "    .dataframe tbody tr th {\n",
       "        vertical-align: top;\n",
       "    }\n",
       "\n",
       "    .dataframe thead th {\n",
       "        text-align: right;\n",
       "    }\n",
       "</style>\n",
       "<table border=\"1\" class=\"dataframe\">\n",
       "  <thead>\n",
       "    <tr style=\"text-align: right;\">\n",
       "      <th></th>\n",
       "      <th>id</th>\n",
       "      <th>season</th>\n",
       "      <th>city</th>\n",
       "      <th>date</th>\n",
       "      <th>team1</th>\n",
       "      <th>team2</th>\n",
       "      <th>toss_winner</th>\n",
       "      <th>toss_decision</th>\n",
       "      <th>result</th>\n",
       "      <th>dl_applied</th>\n",
       "      <th>winner</th>\n",
       "      <th>win_by_runs</th>\n",
       "      <th>win_by_wickets</th>\n",
       "      <th>player_of_match</th>\n",
       "      <th>venue</th>\n",
       "      <th>umpire1</th>\n",
       "      <th>umpire2</th>\n",
       "      <th>umpire3</th>\n",
       "    </tr>\n",
       "  </thead>\n",
       "  <tbody>\n",
       "    <tr>\n",
       "      <th>0</th>\n",
       "      <td>1</td>\n",
       "      <td>2017</td>\n",
       "      <td>Hyderabad</td>\n",
       "      <td>2017-04-05</td>\n",
       "      <td>Sunrisers Hyderabad</td>\n",
       "      <td>Royal Challengers Bangalore</td>\n",
       "      <td>Royal Challengers Bangalore</td>\n",
       "      <td>field</td>\n",
       "      <td>normal</td>\n",
       "      <td>0</td>\n",
       "      <td>Sunrisers Hyderabad</td>\n",
       "      <td>35</td>\n",
       "      <td>0</td>\n",
       "      <td>Yuvraj Singh</td>\n",
       "      <td>Rajiv Gandhi International Stadium, Uppal</td>\n",
       "      <td>AY Dandekar</td>\n",
       "      <td>NJ Llong</td>\n",
       "      <td>NaN</td>\n",
       "    </tr>\n",
       "    <tr>\n",
       "      <th>1</th>\n",
       "      <td>2</td>\n",
       "      <td>2017</td>\n",
       "      <td>Pune</td>\n",
       "      <td>2017-04-06</td>\n",
       "      <td>Mumbai Indians</td>\n",
       "      <td>Rising Pune Supergiant</td>\n",
       "      <td>Rising Pune Supergiant</td>\n",
       "      <td>field</td>\n",
       "      <td>normal</td>\n",
       "      <td>0</td>\n",
       "      <td>Rising Pune Supergiant</td>\n",
       "      <td>0</td>\n",
       "      <td>7</td>\n",
       "      <td>SPD Smith</td>\n",
       "      <td>Maharashtra Cricket Association Stadium</td>\n",
       "      <td>A Nand Kishore</td>\n",
       "      <td>S Ravi</td>\n",
       "      <td>NaN</td>\n",
       "    </tr>\n",
       "    <tr>\n",
       "      <th>2</th>\n",
       "      <td>3</td>\n",
       "      <td>2017</td>\n",
       "      <td>Rajkot</td>\n",
       "      <td>2017-04-07</td>\n",
       "      <td>Gujarat Lions</td>\n",
       "      <td>Kolkata Knight Riders</td>\n",
       "      <td>Kolkata Knight Riders</td>\n",
       "      <td>field</td>\n",
       "      <td>normal</td>\n",
       "      <td>0</td>\n",
       "      <td>Kolkata Knight Riders</td>\n",
       "      <td>0</td>\n",
       "      <td>10</td>\n",
       "      <td>CA Lynn</td>\n",
       "      <td>Saurashtra Cricket Association Stadium</td>\n",
       "      <td>Nitin Menon</td>\n",
       "      <td>CK Nandan</td>\n",
       "      <td>NaN</td>\n",
       "    </tr>\n",
       "    <tr>\n",
       "      <th>3</th>\n",
       "      <td>4</td>\n",
       "      <td>2017</td>\n",
       "      <td>Indore</td>\n",
       "      <td>2017-04-08</td>\n",
       "      <td>Rising Pune Supergiant</td>\n",
       "      <td>Kings XI Punjab</td>\n",
       "      <td>Kings XI Punjab</td>\n",
       "      <td>field</td>\n",
       "      <td>normal</td>\n",
       "      <td>0</td>\n",
       "      <td>Kings XI Punjab</td>\n",
       "      <td>0</td>\n",
       "      <td>6</td>\n",
       "      <td>GJ Maxwell</td>\n",
       "      <td>Holkar Cricket Stadium</td>\n",
       "      <td>AK Chaudhary</td>\n",
       "      <td>C Shamshuddin</td>\n",
       "      <td>NaN</td>\n",
       "    </tr>\n",
       "    <tr>\n",
       "      <th>4</th>\n",
       "      <td>5</td>\n",
       "      <td>2017</td>\n",
       "      <td>Bangalore</td>\n",
       "      <td>2017-04-08</td>\n",
       "      <td>Royal Challengers Bangalore</td>\n",
       "      <td>Delhi Daredevils</td>\n",
       "      <td>Royal Challengers Bangalore</td>\n",
       "      <td>bat</td>\n",
       "      <td>normal</td>\n",
       "      <td>0</td>\n",
       "      <td>Royal Challengers Bangalore</td>\n",
       "      <td>15</td>\n",
       "      <td>0</td>\n",
       "      <td>KM Jadhav</td>\n",
       "      <td>M Chinnaswamy Stadium</td>\n",
       "      <td>NaN</td>\n",
       "      <td>NaN</td>\n",
       "      <td>NaN</td>\n",
       "    </tr>\n",
       "  </tbody>\n",
       "</table>\n",
       "</div>"
      ],
      "text/plain": [
       "   id  season       city        date                        team1  \\\n",
       "0   1    2017  Hyderabad  2017-04-05          Sunrisers Hyderabad   \n",
       "1   2    2017       Pune  2017-04-06               Mumbai Indians   \n",
       "2   3    2017     Rajkot  2017-04-07                Gujarat Lions   \n",
       "3   4    2017     Indore  2017-04-08       Rising Pune Supergiant   \n",
       "4   5    2017  Bangalore  2017-04-08  Royal Challengers Bangalore   \n",
       "\n",
       "                         team2                  toss_winner toss_decision  \\\n",
       "0  Royal Challengers Bangalore  Royal Challengers Bangalore         field   \n",
       "1       Rising Pune Supergiant       Rising Pune Supergiant         field   \n",
       "2        Kolkata Knight Riders        Kolkata Knight Riders         field   \n",
       "3              Kings XI Punjab              Kings XI Punjab         field   \n",
       "4             Delhi Daredevils  Royal Challengers Bangalore           bat   \n",
       "\n",
       "   result  dl_applied                       winner  win_by_runs  \\\n",
       "0  normal           0          Sunrisers Hyderabad           35   \n",
       "1  normal           0       Rising Pune Supergiant            0   \n",
       "2  normal           0        Kolkata Knight Riders            0   \n",
       "3  normal           0              Kings XI Punjab            0   \n",
       "4  normal           0  Royal Challengers Bangalore           15   \n",
       "\n",
       "   win_by_wickets player_of_match                                      venue  \\\n",
       "0               0    Yuvraj Singh  Rajiv Gandhi International Stadium, Uppal   \n",
       "1               7       SPD Smith    Maharashtra Cricket Association Stadium   \n",
       "2              10         CA Lynn     Saurashtra Cricket Association Stadium   \n",
       "3               6      GJ Maxwell                     Holkar Cricket Stadium   \n",
       "4               0       KM Jadhav                      M Chinnaswamy Stadium   \n",
       "\n",
       "          umpire1        umpire2  umpire3  \n",
       "0     AY Dandekar       NJ Llong      NaN  \n",
       "1  A Nand Kishore         S Ravi      NaN  \n",
       "2     Nitin Menon      CK Nandan      NaN  \n",
       "3    AK Chaudhary  C Shamshuddin      NaN  \n",
       "4             NaN            NaN      NaN  "
      ]
     },
     "execution_count": 3,
     "metadata": {},
     "output_type": "execute_result"
    }
   ],
   "source": [
    "ipl.head()"
   ]
  },
  {
   "cell_type": "code",
   "execution_count": 4,
   "metadata": {
    "colab": {
     "base_uri": "https://localhost:8080/"
    },
    "id": "a39Oqg1EUd24",
    "outputId": "27907836-f734-4d06-b359-4a50d3c379f0"
   },
   "outputs": [
    {
     "data": {
      "text/plain": [
       "(636, 18)"
      ]
     },
     "execution_count": 4,
     "metadata": {},
     "output_type": "execute_result"
    }
   ],
   "source": [
    "ipl.shape"
   ]
  },
  {
   "cell_type": "code",
   "execution_count": 5,
   "metadata": {
    "colab": {
     "base_uri": "https://localhost:8080/"
    },
    "id": "76_P_597WLdD",
    "outputId": "f99a3c09-1819-430b-ac0a-a1ef674dbd29"
   },
   "outputs": [
    {
     "data": {
      "text/plain": [
       "CH Gayle             18\n",
       "YK Pathan            16\n",
       "AB de Villiers       15\n",
       "DA Warner            15\n",
       "SK Raina             14\n",
       "                     ..\n",
       "SB Jakati             1\n",
       "JEC Franklin          1\n",
       "Mustafizur Rahman     1\n",
       "BA Bhatt              1\n",
       "LJ Wright             1\n",
       "Name: player_of_match, Length: 201, dtype: int64"
      ]
     },
     "execution_count": 5,
     "metadata": {},
     "output_type": "execute_result"
    }
   ],
   "source": [
    "ipl['player_of_match'].value_counts()"
   ]
  },
  {
   "cell_type": "code",
   "execution_count": 6,
   "metadata": {
    "colab": {
     "base_uri": "https://localhost:8080/"
    },
    "id": "-sD6VyNpWTD1",
    "outputId": "b26671a9-ff41-4bb2-c9b3-d821a24428fc"
   },
   "outputs": [
    {
     "data": {
      "text/plain": [
       "CH Gayle          18\n",
       "YK Pathan         16\n",
       "AB de Villiers    15\n",
       "DA Warner         15\n",
       "SK Raina          14\n",
       "Name: player_of_match, dtype: int64"
      ]
     },
     "execution_count": 6,
     "metadata": {},
     "output_type": "execute_result"
    }
   ],
   "source": [
    "ipl['player_of_match'].value_counts()[0:5]"
   ]
  },
  {
   "cell_type": "code",
   "execution_count": 7,
   "metadata": {
    "colab": {
     "base_uri": "https://localhost:8080/"
    },
    "id": "QuLv_zQFW-Ij",
    "outputId": "b921fd8b-f1ff-4a58-e505-37faa6cb07e8"
   },
   "outputs": [
    {
     "data": {
      "text/plain": [
       "['CH Gayle', 'YK Pathan', 'AB de Villiers', 'DA Warner', 'SK Raina']"
      ]
     },
     "execution_count": 7,
     "metadata": {},
     "output_type": "execute_result"
    }
   ],
   "source": [
    "list(ipl['player_of_match'].value_counts()[0:5].keys())"
   ]
  },
  {
   "cell_type": "markdown",
   "metadata": {},
   "source": [
    "## Top 5 players who won most \"Player of the match\" award"
   ]
  },
  {
   "cell_type": "code",
   "execution_count": 8,
   "metadata": {
    "colab": {
     "base_uri": "https://localhost:8080/",
     "height": 320
    },
    "id": "oWXvdGKeXvIt",
    "outputId": "ae22f411-8348-4c92-8a93-86fe1a338073"
   },
   "outputs": [
    {
     "data": {
      "image/png": "[encoded data removed]",
      "text/plain": [
       "<Figure size 576x360 with 1 Axes>"
      ]
     },
     "metadata": {
      "needs_background": "light"
     },
     "output_type": "display_data"
    }
   ],
   "source": [
    "plt.figure(figsize=(8,5))\n",
    "plt.bar(list(ipl['player_of_match'].value_counts()[0:5].keys()),list(ipl['player_of_match'].value_counts()[0:5]))\n",
    "plt.show()\n"
   ]
  },
  {
   "cell_type": "code",
   "execution_count": 9,
   "metadata": {
    "id": "p_ydc87NaqR8"
   },
   "outputs": [],
   "source": [
    "batting_first_win=ipl[ipl['win_by_runs']!=0]\n",
    "batting_first_loss=ipl[ipl['win_by_runs']==0]"
   ]
  },
  {
   "cell_type": "code",
   "execution_count": 10,
   "metadata": {
    "id": "i2JIwdpce9aa"
   },
   "outputs": [],
   "source": [
    "batting_second_win=ipl[ipl['win_by_wickets']!=0]\n",
    "batting_second_loss=ipl[ipl['win_by_wickets']==0]"
   ]
  },
  {
   "cell_type": "code",
   "execution_count": 12,
   "metadata": {
    "colab": {
     "base_uri": "https://localhost:8080/"
    },
    "id": "dIvDGc8bg4Re",
    "outputId": "0d43f0e5-f35c-48ce-fe24-9fb18a378951"
   },
   "outputs": [],
   "source": [
    "# batting_first_win.value_counts()"
   ]
  },
  {
   "cell_type": "code",
   "execution_count": 13,
   "metadata": {
    "id": "2CKzI8MsfagU"
   },
   "outputs": [],
   "source": [
    "# x=[batting_first_win,batting_first_loss,batting_second_win,batting_second_loss]\n",
    "# y=[batting_first_win.value_counts(),batting_first_loss.value_counts(),batting_second_win.value_counts(),batting_second_loss.value_counts()]\n",
    "# plt.bar(x,y)\n",
    "# plt.show()"
   ]
  },
  {
   "cell_type": "code",
   "execution_count": 14,
   "metadata": {
    "colab": {
     "base_uri": "https://localhost:8080/",
     "height": 444
    },
    "id": "6oF6YYmPgj0H",
    "outputId": "b2cccb1b-2ff2-40ec-f32c-8bc6f4615154"
   },
   "outputs": [
    {
     "data": {
      "image/png": "[encoded data removed]",
      "text/plain": [
       "<Figure size 504x504 with 1 Axes>"
      ]
     },
     "metadata": {
      "needs_background": "light"
     },
     "output_type": "display_data"
    }
   ],
   "source": [
    "plt.figure(figsize=(7,7))\n",
    "plt.hist(batting_first_win['win_by_runs'])\n",
    "plt.title('Distribution of runs')\n",
    "plt.show()\n"
   ]
  },
  {
   "cell_type": "code",
   "execution_count": 15,
   "metadata": {
    "colab": {
     "base_uri": "https://localhost:8080/"
    },
    "id": "scZu7MVk7wru",
    "outputId": "d59e526f-0daa-4375-a48b-f4c5954f3b0c"
   },
   "outputs": [
    {
     "data": {
      "text/plain": [
       "Mumbai Indians                 92\n",
       "Chennai Super Kings            79\n",
       "Kolkata Knight Riders          77\n",
       "Royal Challengers Bangalore    73\n",
       "Kings XI Punjab                70\n",
       "Rajasthan Royals               63\n",
       "Delhi Daredevils               62\n",
       "Sunrisers Hyderabad            42\n",
       "Deccan Chargers                29\n",
       "Gujarat Lions                  13\n",
       "Pune Warriors                  12\n",
       "Rising Pune Supergiant         10\n",
       "Kochi Tuskers Kerala            6\n",
       "Rising Pune Supergiants         5\n",
       "Name: winner, dtype: int64"
      ]
     },
     "execution_count": 15,
     "metadata": {},
     "output_type": "execute_result"
    }
   ],
   "source": [
    "ipl['winner'].value_counts()"
   ]
  },
  {
   "cell_type": "code",
   "execution_count": 16,
   "metadata": {
    "colab": {
     "base_uri": "https://localhost:8080/"
    },
    "id": "E9euwhJ_9uO6",
    "outputId": "bcafbdf6-c636-4341-f854-8af3f9aa6206"
   },
   "outputs": [
    {
     "data": {
      "text/plain": [
       "Mumbai Indians                 47\n",
       "Chennai Super Kings            46\n",
       "Kings XI Punjab                32\n",
       "Kolkata Knight Riders          31\n",
       "Royal Challengers Bangalore    30\n",
       "Rajasthan Royals               23\n",
       "Sunrisers Hyderabad            23\n",
       "Delhi Daredevils               21\n",
       "Deccan Chargers                18\n",
       "Pune Warriors                   6\n",
       "Rising Pune Supergiant          5\n",
       "Kochi Tuskers Kerala            2\n",
       "Rising Pune Supergiants         2\n",
       "Gujarat Lions                   1\n",
       "Name: winner, dtype: int64"
      ]
     },
     "execution_count": 16,
     "metadata": {},
     "output_type": "execute_result"
    }
   ],
   "source": [
    "batting_first_win['winner'].value_counts()"
   ]
  },
  {
   "cell_type": "code",
   "execution_count": 17,
   "metadata": {
    "colab": {
     "base_uri": "https://localhost:8080/"
    },
    "id": "e00lPgZW93Wc",
    "outputId": "3b64972d-a9e6-4f07-ab40-33f9fe342f02"
   },
   "outputs": [
    {
     "data": {
      "text/plain": [
       "Kolkata Knight Riders          46\n",
       "Mumbai Indians                 44\n",
       "Royal Challengers Bangalore    42\n",
       "Delhi Daredevils               41\n",
       "Rajasthan Royals               38\n",
       "Kings XI Punjab                36\n",
       "Chennai Super Kings            33\n",
       "Sunrisers Hyderabad            18\n",
       "Gujarat Lions                  12\n",
       "Deccan Chargers                11\n",
       "Pune Warriors                   6\n",
       "Rising Pune Supergiant          5\n",
       "Kochi Tuskers Kerala            4\n",
       "Rising Pune Supergiants         3\n",
       "Name: winner, dtype: int64"
      ]
     },
     "execution_count": 17,
     "metadata": {},
     "output_type": "execute_result"
    }
   ],
   "source": [
    "batting_second_win['winner'].value_counts()"
   ]
  },
  {
   "cell_type": "code",
   "execution_count": 18,
   "metadata": {
    "colab": {
     "base_uri": "https://localhost:8080/",
     "height": 320
    },
    "id": "qkW-uOdi-VbP",
    "outputId": "a8260490-880f-4d56-ba08-d12ecc9ef394"
   },
   "outputs": [
    {
     "data": {
      "image/png": "[encoded data removed]",
      "text/plain": [
       "<Figure size 576x360 with 1 Axes>"
      ]
     },
     "metadata": {
      "needs_background": "light"
     },
     "output_type": "display_data"
    }
   ],
   "source": [
    "plt.figure(figsize=(8,5))\n",
    "plt.bar(list(batting_first_win['winner'].value_counts()[0:3].keys()),list(batting_first_win['winner'].value_counts()[0:3]))\n",
    "plt.show()\n"
   ]
  },
  {
   "cell_type": "code",
   "execution_count": 19,
   "metadata": {
    "colab": {
     "base_uri": "https://localhost:8080/",
     "height": 320
    },
    "id": "HSBBwkKG-xIV",
    "outputId": "2b3712b8-1764-4b87-f703-34c0513ae9c7"
   },
   "outputs": [
    {
     "data": {
      "image/png": "[encoded data removed]",
      "text/plain": [
       "<Figure size 576x360 with 1 Axes>"
      ]
     },
     "metadata": {
      "needs_background": "light"
     },
     "output_type": "display_data"
    }
   ],
   "source": [
    "plt.figure(figsize=(8,5))\n",
    "plt.bar(list(batting_second_win['winner'].value_counts()[0:3].keys()),list(batting_second_win['winner'].value_counts()[0:3]))\n",
    "plt.show()"
   ]
  },
  {
   "cell_type": "markdown",
   "metadata": {},
   "source": [
    "## Pie chart representing the teams with  successful chasing"
   ]
  },
  {
   "cell_type": "code",
   "execution_count": 20,
   "metadata": {
    "colab": {
     "base_uri": "https://localhost:8080/",
     "height": 411
    },
    "id": "ccylwjFMQ0cU",
    "outputId": "6cea06a1-270c-4f65-a233-f3ffb3ae80ef"
   },
   "outputs": [
    {
     "data": {
      "image/png": "[encoded data removed]",
      "text/plain": [
       "<Figure size 504x504 with 1 Axes>"
      ]
     },
     "metadata": {},
     "output_type": "display_data"
    }
   ],
   "source": [
    "plt.figure(figsize=(7,7))\n",
    "plt.pie(list(batting_second_win['winner'].value_counts()),labels=list(batting_second_win['winner'].value_counts().keys()), autopct='%0.1f%%')\n",
    "plt.show()"
   ]
  },
  {
   "cell_type": "code",
   "execution_count": 21,
   "metadata": {
    "colab": {
     "base_uri": "https://localhost:8080/"
    },
    "id": "lh41DlbleBXt",
    "outputId": "b28c6dfe-d8c4-4683-de14-e27454622bfc"
   },
   "outputs": [
    {
     "data": {
      "text/plain": [
       "2013    76\n",
       "2012    74\n",
       "2011    73\n",
       "2016    60\n",
       "2014    60\n",
       "2010    60\n",
       "2017    59\n",
       "2015    59\n",
       "2008    58\n",
       "2009    57\n",
       "Name: season, dtype: int64"
      ]
     },
     "execution_count": 21,
     "metadata": {},
     "output_type": "execute_result"
    }
   ],
   "source": [
    "ipl['season'].value_counts()"
   ]
  },
  {
   "cell_type": "markdown",
   "metadata": {},
   "source": [
    "## TOP 5 Venus with most IPL matches"
   ]
  },
  {
   "cell_type": "code",
   "execution_count": 22,
   "metadata": {
    "colab": {
     "base_uri": "https://localhost:8080/"
    },
    "id": "Nx1NvJ419IiH",
    "outputId": "798fc336-ccb0-4176-819b-493c70b2bbf4"
   },
   "outputs": [
    {
     "data": {
      "text/plain": [
       "Mumbai            85\n",
       "Bangalore         66\n",
       "Kolkata           61\n",
       "Delhi             60\n",
       "Hyderabad         49\n",
       "Chennai           48\n",
       "Chandigarh        46\n",
       "Jaipur            33\n",
       "Pune              32\n",
       "Durban            15\n",
       "Ahmedabad         12\n",
       "Centurion         12\n",
       "Visakhapatnam     11\n",
       "Rajkot            10\n",
       "Dharamsala         9\n",
       "Johannesburg       8\n",
       "Cuttack            7\n",
       "Abu Dhabi          7\n",
       "Ranchi             7\n",
       "Cape Town          7\n",
       "Port Elizabeth     7\n",
       "Raipur             6\n",
       "Sharjah            6\n",
       "Indore             5\n",
       "Kochi              5\n",
       "Kanpur             4\n",
       "East London        3\n",
       "Kimberley          3\n",
       "Nagpur             3\n",
       "Bloemfontein       2\n",
       "Name: city, dtype: int64"
      ]
     },
     "execution_count": 22,
     "metadata": {},
     "output_type": "execute_result"
    }
   ],
   "source": [
    "ipl['city'].value_counts()"
   ]
  },
  {
   "cell_type": "code",
   "execution_count": 26,
   "metadata": {},
   "outputs": [
    {
     "data": {
      "image/png": "[encoded data removed]",
      "text/plain": [
       "<Figure size 576x360 with 1 Axes>"
      ]
     },
     "metadata": {
      "needs_background": "light"
     },
     "output_type": "display_data"
    }
   ],
   "source": [
    "plt.figure(figsize=(8,5))\n",
    "plt.bar(list(ipl['city'].value_counts()[0:5].keys()),list(ipl['city'].value_counts()[0:5]))\n",
    "plt.show()"
   ]
  },
  {
   "cell_type": "markdown",
   "metadata": {},
   "source": [
    "## Teams who won both toss and match"
   ]
  },
  {
   "cell_type": "code",
   "execution_count": 23,
   "metadata": {
    "id": "4Zk7Ws1s9NzR"
   },
   "outputs": [],
   "source": [
    "su=ipl['toss_winner']==ipl['winner']"
   ]
  },
  {
   "cell_type": "code",
   "execution_count": 24,
   "metadata": {
    "colab": {
     "base_uri": "https://localhost:8080/"
    },
    "id": "cgyGbR0e_Eye",
    "outputId": "d2a062e4-e6f5-4e1a-a3b0-ce028057a31c"
   },
   "outputs": [
    {
     "data": {
      "text/plain": [
       "True     325\n",
       "False    311\n",
       "dtype: int64"
      ]
     },
     "execution_count": 24,
     "metadata": {},
     "output_type": "execute_result"
    }
   ],
   "source": [
    "su.value_counts()"
   ]
  },
  {
   "cell_type": "code",
   "execution_count": 25,
   "metadata": {
    "colab": {
     "base_uri": "https://localhost:8080/"
    },
    "id": "GQrkArVRBC2d",
    "outputId": "62f32446-2f8d-4acd-dda7-0e436d0c94a3"
   },
   "outputs": [
    {
     "data": {
      "text/plain": [
       "325"
      ]
     },
     "execution_count": 25,
     "metadata": {},
     "output_type": "execute_result"
    }
   ],
   "source": [
    "import numpy as np\n",
    "np.sum(ipl['toss_winner']==ipl['winner'])"
   ]
  }
 ],
 "metadata": {
  "colab": {
   "collapsed_sections": [],
   "name": "analysing ipl data using python.ipynb",
   "provenance": []
  },
  "kernelspec": {
   "display_name": "Python 3",
   "language": "python",
   "name": "python3"
  },
  "language_info": {
   "codemirror_mode": {
    "name": "ipython",
    "version": 3
   },
   "file_extension": ".py",
   "mimetype": "text/x-python",
   "name": "python",
   "nbconvert_exporter": "python",
   "pygments_lexer": "ipython3",
   "version": "3.8.3"
  }
 },
 "nbformat": 4,
 "nbformat_minor": 1
}
